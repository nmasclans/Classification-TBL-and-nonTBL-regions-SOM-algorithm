{
 "cells": [
  {
   "cell_type": "code",
   "execution_count": 1,
   "metadata": {},
   "outputs": [],
   "source": [
    "from get_velocity_data_from_TDB import get_velocity_data, get_velocity_data_test, make_countours_ken_vel"
   ]
  },
  {
   "cell_type": "code",
   "execution_count": 3,
   "metadata": {},
   "outputs": [
    {
     "name": "stdout",
     "output_type": "stream",
     "text": [
      "Coordinates of 5 points where variables are requested:\n",
      "0: [2.3241436 4.172805  5.5653462]\n",
      "1: [4.5614133 4.345818  2.4715488]\n",
      "2: [4.376448  5.1549764 4.5325713]\n",
      "3: [6.2741795 3.380009  5.2180166]\n",
      "4: [2.2328522 5.284814  3.229334 ]\n",
      "Data is requested at time 0.25\n",
      "Requesting velocity at 5 points...\n",
      "0: [-0.03091727 -0.19179809  0.69407964]\n",
      "1: [-0.9016114   0.2168     -0.43929493]\n",
      "2: [-0.03946684  0.110025    0.40298292]\n",
      "3: [ 0.14707258 -0.13814482  1.4461122 ]\n",
      "4: [-0.91403085  0.79391664 -0.6957843 ]\n",
      "Requesting velocity gradient at 5 points...\n",
      "0: duxdx = +5.930336e+00, duxdy = -1.455371e+00, duxdz = +6.230735e-01\n",
      "   duydx = +4.739107e+00, duydy = +8.131125e-01, duydz = -9.663368e+00\n",
      "   duzdx = +5.613880e+00, duzdy = -1.456582e+00, duzdz = -7.331771e+00\n",
      "1: duxdx = -1.311327e+00, duxdy = -1.368568e+00, duxdz = -1.419761e+00\n",
      "   duydx = -9.113936e+00, duydy = -1.897817e+00, duydz = +3.276553e+00\n",
      "   duzdx = -2.941987e+00, duzdy = -3.973279e+00, duzdz = +3.210546e+00\n",
      "2: duxdx = -1.524371e+01, duxdy = -2.107107e+01, duxdz = +1.478471e+00\n",
      "   duydx = +2.360749e+01, duydy = +1.432567e+01, duydz = -7.233497e+00\n",
      "   duzdx = +1.045907e+01, duzdy = +1.742119e+01, duzdz = +6.420240e-01\n",
      "3: duxdx = -6.516699e+00, duxdy = +1.080023e+01, duxdz = +6.637018e+00\n",
      "   duydx = +6.678253e+00, duydy = -2.675993e+00, duydz = -1.084807e+01\n",
      "   duzdx = -6.472321e+00, duzdy = +3.214364e+00, duzdz = +8.864275e+00\n",
      "4: duxdx = -1.503650e+00, duxdy = +2.272766e+00, duxdz = -4.353978e+00\n",
      "   duydx = +1.119783e+00, duydy = +1.832752e+00, duydz = +2.313641e+00\n",
      "   duzdx = -2.032930e+00, duzdy = +3.918024e+00, duzdz = -1.594188e-01\n"
     ]
    }
   ],
   "source": [
    "get_velocity_data_test(5)"
   ]
  },
  {
   "cell_type": "code",
   "execution_count": null,
   "metadata": {},
   "outputs": [
    {
     "name": "stdout",
     "output_type": "stream",
     "text": [
      "Coordinates of 25x10x15 points where variables are requested:\n",
      "index [0, 0, 0]: [30.2185  0.      0.    ]\n",
      "index [0, 0, 1]: [30.2185    0.       17.142857]\n",
      "index [0, 1, 0]: [30.2185     2.9431112  0.       ]\n",
      "index [0, 1, 1]: [30.2185     2.9431112 17.142857 ]\n",
      "index [1, 0, 0]: [70.62877  0.       0.     ]\n",
      "index [1, 0, 1]: [70.62877   0.       17.142857]\n",
      "index [1, 1, 0]: [70.62877    2.9431112  0.       ]\n",
      "index [1, 1, 1]: [70.62877    2.9431112 17.142857 ]\n",
      "Data is requested at time 50.0\n",
      "\n",
      " Requesting velocity at 25x10x15 points...\n"
     ]
    }
   ],
   "source": [
    "get_velocity_data(x_min=30.2185, x_max=1000.065, y_min=0, y_max=26.488, z_min=0, z_max=240, nx=25, ny=10, nz=15, time=0.0)"
   ]
  },
  {
   "cell_type": "code",
   "execution_count": 3,
   "metadata": {},
   "outputs": [
    {
     "name": "stdout",
     "output_type": "stream",
     "text": [
      "Coordinates of 25x10x15 points where variables are requested:\n",
      "index [0, 0, 0]: [30.2185  0.      0.    ]\n",
      "index [0, 0, 1]: [30.2185    0.       17.142857]\n",
      "index [0, 1, 0]: [30.2185     2.9431112  0.       ]\n",
      "index [0, 1, 1]: [30.2185     2.9431112 17.142857 ]\n",
      "index [1, 0, 0]: [70.62877  0.       0.     ]\n",
      "index [1, 0, 1]: [70.62877   0.       17.142857]\n",
      "index [1, 1, 0]: [70.62877    2.9431112  0.       ]\n",
      "index [1, 1, 1]: [70.62877    2.9431112 17.142857 ]\n",
      "Data is requested at time 10.0\n",
      "\n",
      " Requesting velocity at 25x10x15 points...\n",
      "index [0, 0, 0]: [-0.15596154 -0.3030901   1.154261  ]\n",
      "index [0, 0, 1]: [0.11475962 0.0785965  1.1430439 ]\n",
      "index [0, 1, 0]: [-0.08533698  1.3012953  -0.92506725]\n",
      "index [0, 1, 1]: [-0.21370889 -0.26833954 -0.7869727 ]\n",
      "index [1, 0, 0]: [ 0.16077419 -1.0398669  -0.11844785]\n",
      "index [1, 0, 1]: [-1.3090357   1.6124381   0.35364327]\n",
      "index [1, 1, 0]: [ 0.61556    -0.9995867   0.14985693]\n",
      "index [1, 1, 1]: [-0.03405994  0.5522581  -0.34086812]\n",
      "\n",
      " Requesting velocity gradient at 25x10x15 points...\n",
      "index [0, 0, 0]: duxdx = +5.430930e+00, duxdy = -6.227932e-01, duxdz = +4.992328e+00\n",
      "                 duydx = -3.041007e+00, duydy = +3.713768e+00, duydz = -2.980873e+00\n",
      "                 duzdx = -6.975759e+00, duzdy = +5.606804e+00, duzdz = -9.051140e+00\n",
      "index [0, 0, 1]: duxdx = +2.155966e+00, duxdy = +4.524242e+00, duxdz = +6.920475e-01\n",
      "                 duydx = -4.934337e+00, duydy = +5.458955e+00, duydz = -7.555339e+00\n",
      "                 duzdx = -4.425981e+00, duzdy = +5.081146e+00, duzdz = -7.548690e+00\n",
      "index [0, 1, 0]: duxdx = -5.256807e+00, duxdy = +9.479278e-01, duxdz = +2.577412e+00\n",
      "                 duydx = +4.447617e+00, duydy = +5.463763e-01, duydz = +2.756424e-01\n",
      "                 duzdx = -5.468254e+00, duzdy = +4.387650e+00, duzdz = +4.599251e+00\n",
      "index [0, 1, 1]: duxdx = +7.814513e+00, duxdy = +4.422696e-01, duxdz = -8.128245e-01\n",
      "                 duydx = -1.524160e+01, duydy = -1.279014e+01, duydz = +5.867746e+00\n",
      "                 duzdx = -5.619806e+00, duzdy = -5.776032e+00, duzdz = +5.711452e+00\n",
      "index [1, 0, 0]: duxdx = -1.681124e+00, duxdy = -1.656306e+00, duxdz = +5.213099e-01\n",
      "                 duydx = +1.568286e+01, duydy = +8.215103e-01, duydz = +3.153542e+00\n",
      "                 duzdx = -6.557799e+00, duzdy = -1.457350e+00, duzdz = +1.132187e+00\n",
      "index [1, 0, 1]: duxdx = -5.148124e+00, duxdy = +6.233208e+00, duxdz = +1.723793e+00\n",
      "                 duydx = +6.424578e+00, duydy = -1.680908e+00, duydz = +4.361785e+00\n",
      "                 duzdx = +1.074783e+01, duzdy = -1.247054e+01, duzdz = +6.047395e+00\n",
      "index [1, 1, 0]: duxdx = +4.066207e+00, duxdy = +4.722851e+00, duxdz = -4.386436e+00\n",
      "                 duydx = +1.105016e+00, duydy = +3.384789e+00, duydz = +2.454529e+00\n",
      "                 duzdx = -5.808576e+00, duzdy = +1.355937e+01, duzdz = -7.268779e+00\n",
      "index [1, 1, 1]: duxdx = -8.359680e+00, duxdy = -1.798110e+00, duxdz = -1.094034e+01\n",
      "                 duydx = +7.542462e+00, duydy = +2.209225e+01, duydz = +2.615608e+00\n",
      "                 duzdx = +2.871804e-01, duzdy = -5.067217e+00, duzdz = -1.410812e+01\n",
      "\n",
      "Database file created: ../../../Temporary/nuria_masclans/scratch/JHTDB_time_10-0_n_25x10x15.hdf5\n"
     ]
    }
   ],
   "source": [
    "get_velocity_data(x_min=30.2185, x_max=1000.065, y_min=0, y_max=26.488, z_min=0, z_max=240, nx=25, ny=10, nz=15, time=10.0)"
   ]
  },
  {
   "cell_type": "code",
   "execution_count": null,
   "metadata": {},
   "outputs": [
    {
     "name": "stdout",
     "output_type": "stream",
     "text": [
      "Coordinates of 25x10x15 points where variables are requested:\n",
      "index [0, 0, 0]: [30.2185  0.      0.    ]\n",
      "index [0, 0, 1]: [30.2185    0.       17.142857]\n",
      "index [0, 1, 0]: [30.2185     2.9431112  0.       ]\n",
      "index [0, 1, 1]: [30.2185     2.9431112 17.142857 ]\n",
      "index [1, 0, 0]: [70.62877  0.       0.     ]\n",
      "index [1, 0, 1]: [70.62877   0.       17.142857]\n",
      "index [1, 1, 0]: [70.62877    2.9431112  0.       ]\n",
      "index [1, 1, 1]: [70.62877    2.9431112 17.142857 ]\n",
      "Data is requested at time 20.0\n",
      "\n",
      " Requesting velocity at 25x10x15 points...\n"
     ]
    }
   ],
   "source": [
    "get_velocity_data(x_min=30.2185, x_max=1000.065, y_min=0, y_max=26.488, z_min=0, z_max=240, nx=25, ny=10, nz=15, time=20.0)"
   ]
  }
 ],
 "metadata": {
  "kernelspec": {
   "display_name": "Python 3",
   "language": "python",
   "name": "python3"
  },
  "language_info": {
   "codemirror_mode": {
    "name": "ipython",
    "version": 3
   },
   "file_extension": ".py",
   "mimetype": "text/x-python",
   "name": "python",
   "nbconvert_exporter": "python",
   "pygments_lexer": "ipython3",
   "version": "3.7.1"
  }
 },
 "nbformat": 4,
 "nbformat_minor": 2
}
